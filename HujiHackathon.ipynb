{
  "nbformat": 4,
  "nbformat_minor": 0,
  "metadata": {
    "colab": {
      "name": "Copy of HujiHackathon.ipynb",
      "provenance": [],
      "authorship_tag": "ABX9TyNNRwkGvL3v3Gw6TQNmJD7x",
      "include_colab_link": true
    },
    "kernelspec": {
      "name": "python3",
      "display_name": "Python 3"
    },
    "language_info": {
      "name": "python"
    }
  },
  "cells": [
    {
      "cell_type": "markdown",
      "metadata": {
        "id": "view-in-github",
        "colab_type": "text"
      },
      "source": [
        "<a href=\"https://colab.research.google.com/github/tomerni/PythonProjects/blob/main/HujiHackathon.ipynb\" target=\"_parent\"><img src=\"https://colab.research.google.com/assets/colab-badge.svg\" alt=\"Open In Colab\"/></a>"
      ]
    },
    {
      "cell_type": "code",
      "metadata": {
        "id": "1GfPSxRm_oyb",
        "colab": {
          "base_uri": "https://localhost:8080/"
        },
        "outputId": "3f9808a7-1cc3-42e1-a155-7f8fbe9c2d57"
      },
      "source": [
        "import tensorflow as tf\n",
        "import matplotlib.pyplot as plt\n",
        "import numpy as np\n",
        "from sklearn.model_selection import train_test_split\n",
        "!pip install geopandas"
      ],
      "execution_count": null,
      "outputs": [
        {
          "output_type": "stream",
          "text": [
            "Collecting geopandas\n",
            "\u001b[?25l  Downloading https://files.pythonhosted.org/packages/d7/bf/e9cefb69d39155d122b6ddca53893b61535fa6ffdad70bf5ef708977f53f/geopandas-0.9.0-py2.py3-none-any.whl (994kB)\n",
            "\u001b[K     |████████████████████████████████| 1.0MB 6.9MB/s \n",
            "\u001b[?25hCollecting pyproj>=2.2.0\n",
            "\u001b[?25l  Downloading https://files.pythonhosted.org/packages/b1/72/d52e9ca81caef056062d71991b0e9b1d16af042245627c5d0e4916a36c4f/pyproj-3.0.1-cp37-cp37m-manylinux2010_x86_64.whl (6.5MB)\n",
            "\u001b[K     |████████████████████████████████| 6.5MB 17.0MB/s \n",
            "\u001b[?25hRequirement already satisfied: pandas>=0.24.0 in /usr/local/lib/python3.7/dist-packages (from geopandas) (1.1.5)\n",
            "Collecting fiona>=1.8\n",
            "\u001b[?25l  Downloading https://files.pythonhosted.org/packages/ea/2a/404b22883298a3efe9c6ef8d67acbf2c38443fa366ee9cd4cd34e17626ea/Fiona-1.8.19-cp37-cp37m-manylinux1_x86_64.whl (15.3MB)\n",
            "\u001b[K     |████████████████████████████████| 15.3MB 242kB/s \n",
            "\u001b[?25hRequirement already satisfied: shapely>=1.6 in /usr/local/lib/python3.7/dist-packages (from geopandas) (1.7.1)\n",
            "Requirement already satisfied: certifi in /usr/local/lib/python3.7/dist-packages (from pyproj>=2.2.0->geopandas) (2020.12.5)\n",
            "Requirement already satisfied: numpy>=1.15.4 in /usr/local/lib/python3.7/dist-packages (from pandas>=0.24.0->geopandas) (1.19.5)\n",
            "Requirement already satisfied: pytz>=2017.2 in /usr/local/lib/python3.7/dist-packages (from pandas>=0.24.0->geopandas) (2018.9)\n",
            "Requirement already satisfied: python-dateutil>=2.7.3 in /usr/local/lib/python3.7/dist-packages (from pandas>=0.24.0->geopandas) (2.8.1)\n",
            "Requirement already satisfied: six>=1.7 in /usr/local/lib/python3.7/dist-packages (from fiona>=1.8->geopandas) (1.15.0)\n",
            "Collecting munch\n",
            "  Downloading https://files.pythonhosted.org/packages/cc/ab/85d8da5c9a45e072301beb37ad7f833cd344e04c817d97e0cc75681d248f/munch-2.5.0-py2.py3-none-any.whl\n",
            "Requirement already satisfied: attrs>=17 in /usr/local/lib/python3.7/dist-packages (from fiona>=1.8->geopandas) (21.2.0)\n",
            "Collecting click-plugins>=1.0\n",
            "  Downloading https://files.pythonhosted.org/packages/e9/da/824b92d9942f4e472702488857914bdd50f73021efea15b4cad9aca8ecef/click_plugins-1.1.1-py2.py3-none-any.whl\n",
            "Collecting cligj>=0.5\n",
            "  Downloading https://files.pythonhosted.org/packages/42/1e/947eadf10d6804bf276eb8a038bd5307996dceaaa41cfd21b7a15ec62f5d/cligj-0.7.1-py3-none-any.whl\n",
            "Collecting click<8,>=4.0\n",
            "\u001b[?25l  Downloading https://files.pythonhosted.org/packages/d2/3d/fa76db83bf75c4f8d338c2fd15c8d33fdd7ad23a9b5e57eb6c5de26b430e/click-7.1.2-py2.py3-none-any.whl (82kB)\n",
            "\u001b[K     |████████████████████████████████| 92kB 9.1MB/s \n",
            "\u001b[?25hInstalling collected packages: pyproj, munch, click, click-plugins, cligj, fiona, geopandas\n",
            "  Found existing installation: click 8.0.0\n",
            "    Uninstalling click-8.0.0:\n",
            "      Successfully uninstalled click-8.0.0\n",
            "Successfully installed click-7.1.2 click-plugins-1.1.1 cligj-0.7.1 fiona-1.8.19 geopandas-0.9.0 munch-2.5.0 pyproj-3.0.1\n"
          ],
          "name": "stdout"
        }
      ]
    },
    {
      "cell_type": "code",
      "metadata": {
        "id": "tM_dcDzr_waY"
      },
      "source": [
        "# load data\n",
        "DATA_PATH = \"./None\"\n",
        "data = np.loadtxt(DATA_PATH, delimiter=\",\")\n",
        "# seperate X and y - X is the features and y is the result\n",
        "X, y_3weeks, y_5weeks = data[:, :15], data[:, 15], data[:,16]\n",
        "X_train_3, X_test_3, y_train_3, y_test_3 = train_test_split(X, y, tes)"
      ],
      "execution_count": null,
      "outputs": []
    },
    {
      "cell_type": "code",
      "metadata": {
        "id": "ZfdLetfXBTe8",
        "colab": {
          "base_uri": "https://localhost:8080/",
          "height": 202
        },
        "outputId": "c7ae2111-80c9-4ca0-dd3a-c0a55e4b03bd"
      },
      "source": [
        "import geopandas as gpd\n",
        "shapefile = 'ne_110m_admin_0_countries.shp'\n",
        "\n",
        "gdf = gpd.read_file(shapefile)[['ADMIN', 'ADM0_A3', 'geometry']]\n",
        "gdf.columns = ['country', 'country_code', 'geometry']\n",
        "gdf.head()"
      ],
      "execution_count": null,
      "outputs": [
        {
          "output_type": "execute_result",
          "data": {
            "text/html": [
              "<div>\n",
              "<style scoped>\n",
              "    .dataframe tbody tr th:only-of-type {\n",
              "        vertical-align: middle;\n",
              "    }\n",
              "\n",
              "    .dataframe tbody tr th {\n",
              "        vertical-align: top;\n",
              "    }\n",
              "\n",
              "    .dataframe thead th {\n",
              "        text-align: right;\n",
              "    }\n",
              "</style>\n",
              "<table border=\"1\" class=\"dataframe\">\n",
              "  <thead>\n",
              "    <tr style=\"text-align: right;\">\n",
              "      <th></th>\n",
              "      <th>country</th>\n",
              "      <th>country_code</th>\n",
              "      <th>geometry</th>\n",
              "    </tr>\n",
              "  </thead>\n",
              "  <tbody>\n",
              "    <tr>\n",
              "      <th>0</th>\n",
              "      <td>Fiji</td>\n",
              "      <td>FJI</td>\n",
              "      <td>MULTIPOLYGON (((180.00000 -16.06713, 180.00000...</td>\n",
              "    </tr>\n",
              "    <tr>\n",
              "      <th>1</th>\n",
              "      <td>United Republic of Tanzania</td>\n",
              "      <td>TZA</td>\n",
              "      <td>POLYGON ((33.90371 -0.95000, 34.07262 -1.05982...</td>\n",
              "    </tr>\n",
              "    <tr>\n",
              "      <th>2</th>\n",
              "      <td>Western Sahara</td>\n",
              "      <td>SAH</td>\n",
              "      <td>POLYGON ((-8.66559 27.65643, -8.66512 27.58948...</td>\n",
              "    </tr>\n",
              "    <tr>\n",
              "      <th>3</th>\n",
              "      <td>Canada</td>\n",
              "      <td>CAN</td>\n",
              "      <td>MULTIPOLYGON (((-122.84000 49.00000, -122.9742...</td>\n",
              "    </tr>\n",
              "    <tr>\n",
              "      <th>4</th>\n",
              "      <td>United States of America</td>\n",
              "      <td>USA</td>\n",
              "      <td>MULTIPOLYGON (((-122.84000 49.00000, -120.0000...</td>\n",
              "    </tr>\n",
              "  </tbody>\n",
              "</table>\n",
              "</div>"
            ],
            "text/plain": [
              "                       country  ...                                           geometry\n",
              "0                         Fiji  ...  MULTIPOLYGON (((180.00000 -16.06713, 180.00000...\n",
              "1  United Republic of Tanzania  ...  POLYGON ((33.90371 -0.95000, 34.07262 -1.05982...\n",
              "2               Western Sahara  ...  POLYGON ((-8.66559 27.65643, -8.66512 27.58948...\n",
              "3                       Canada  ...  MULTIPOLYGON (((-122.84000 49.00000, -122.9742...\n",
              "4     United States of America  ...  MULTIPOLYGON (((-122.84000 49.00000, -120.0000...\n",
              "\n",
              "[5 rows x 3 columns]"
            ]
          },
          "metadata": {
            "tags": []
          },
          "execution_count": 6
        }
      ]
    },
    {
      "cell_type": "code",
      "metadata": {
        "id": "SMCB9i2wF9do"
      },
      "source": [
        "import pandas as pd\n"
      ],
      "execution_count": null,
      "outputs": []
    },
    {
      "cell_type": "code",
      "metadata": {
        "id": "qCaFOKiYE_CH"
      },
      "source": [
        "\n"
      ],
      "execution_count": null,
      "outputs": []
    },
    {
      "cell_type": "code",
      "metadata": {
        "colab": {
          "base_uri": "https://localhost:8080/"
        },
        "id": "ytJV3ExBM3Ck",
        "outputId": "727bbaab-9c4b-466a-e961-19058f030dc8"
      },
      "source": [
        "import tensorflow as tf\n",
        "import matplotlib.pyplot as plt\n",
        "import numpy as np\n",
        "from sklearn.metrics import plot_confusion_matrix\n",
        "from sklearn.ensemble import RandomForestClassifier\n",
        "from sklearn.neighbors import KNeighborsClassifier\n",
        "from sklearn.model_selection import train_test_split\n",
        "\n",
        "# load data\n",
        "DATA_PATH = \"data_for_learning.csv\"\n",
        "COLS_TO_REMOVE = [\"CountryCode\", \"prediction_cat\", \"prediction_cat_14\", \"prediction_cat_28\"]\n",
        "df = pd.read_csv('data_for_learning.csv')\n",
        "y_3weeks = df[\"prediction_cat_14\"]\n",
        "y_5weeks = df[\"prediction_cat_28\"]\n",
        "y_cur = df[\"prediction_cat\"]\n",
        "\n",
        "\n",
        "for (columnName, columnData) in df.iteritems():\n",
        "  df[columnName] = df[columnName].fillna(-1)\n",
        "\n",
        "print(df.isnull().sum().sum())\n",
        "\n",
        "X = df.drop(columns=COLS_TO_REMOVE)\n",
        "\n",
        "# separate X and y - X is the features and y is the result\n",
        "X_train_3, X_test_3, y_train_3, y_test_3 = train_test_split(X, y_3weeks, test_size=0.2)\n",
        "X_train_5, X_test_5, y_train_5, y_test_5 = train_test_split(X, y_5weeks, test_size=0.2)\n",
        "all_data_sets = [[X_train_3, X_test_3, y_train_3, y_test_3],\n",
        "                 [X_train_5, X_test_5, y_train_5, y_test_5]]\n",
        "\n",
        "\n",
        "# cnn model\n",
        "cnn_model = tf.keras.models.Sequential()\n",
        "cnn_model.add(tf.keras.layers.Dense(128, activation=tf.nn.relu))\n",
        "cnn_model.add(tf.keras.layers.Dense(128, activation=tf.nn.relu))\n",
        "cnn_model.add(tf.keras.layers.Dense(128, activation=tf.nn.softmax))\n",
        "# TODO: maybe change the loss to MSE\n",
        "cnn_model.compile(optimizer=\"adam\", loss=\"sparse_categorical_crossentropy\", metrics=[\"accuracy\"])\n",
        "\n",
        "# random forest model\n",
        "clf = RandomForestClassifier(n_estimators=100)\n",
        "\n",
        "\n",
        "\"\"\"\n",
        "    TESTING\n",
        "\"\"\"\n",
        "list_of_models = [cnn_model, clf]\n",
        "fitted_models = []\n",
        "for model_index in range(len(list_of_models)):\n",
        "    for data_set in all_data_sets:\n",
        "        model = list_of_models[model_index]\n",
        "        if model_index == 0:\n",
        "            continue\n",
        "            # model.fit(x=data_set[0], y=data_set[2], batch_size=60,\n",
        "            #           verbose=1, epochs=200, validation_split=0.25)\n",
        "            \n",
        "            # predicted_y = model.predict(data_set[1])\n",
        "            # # tf.math.confusion_matrix(data_set[3], predicted_y)\n",
        "            # plot_confusion_matrix(model, data_set[1], data_set[3],\n",
        "            #                       cmap=plt.cm.get_cmap(\"Blues\"),\n",
        "            #                       normalize=True)\n",
        "            # plt.show()\n",
        "        else:\n",
        "            print(data_set[0].shape)\n",
        "            model.fit(data_set[0], data_set[2])\n",
        "            predicted_y = model.predict(data_set[1])\n",
        "            # plot_confusion_matrix(model, data_set[1], data_set[3],\n",
        "                                  # cmap=plt.cm.get_cmap(\"Blues\"), normalize='true')\n",
        "            # plt.show()\n",
        "            fitted_models.append(model)\n",
        "\n",
        "\n",
        "\n",
        "\n"
      ],
      "execution_count": null,
      "outputs": [
        {
          "output_type": "stream",
          "text": [
            "0\n",
            "(86662, 13)\n",
            "(86662, 13)\n"
          ],
          "name": "stdout"
        }
      ]
    },
    {
      "cell_type": "code",
      "metadata": {
        "id": "nhaCsTWbYtfW"
      },
      "source": [
        "### predict the last day of every country ####\n",
        "import pandas as pd\n",
        "\n",
        "COLS_TO_REMOVE = [\"CountryCode\", \"prediction_cat\", \"prediction_cat_14\", \"prediction_cat_28\"]\n",
        "\n",
        "gb = df.groupby(\"CountryCode\")\n",
        "last_row_every_country = gb.tail(1).sort_values(\"CountryCode\")\n",
        "country_codes = pd.DataFrame(last_row_every_country[\"CountryCode\"])\n",
        "final_data = last_row_every_country.drop(columns=COLS_TO_REMOVE, axis=1)\n",
        "model_14, model_28 = fitted_models[0], fitted_models[1]\n",
        "prediction_14, prediction_28 = model_14.predict(final_data), model_28.predict(final_data)\n",
        "country_codes[\"prediction_14\"] = prediction_14\n",
        "country_codes[\"prediction_28\"] = prediction_28\n",
        "country_codes[\"cur_prediction\"] = y_cur\n"
      ],
      "execution_count": null,
      "outputs": []
    },
    {
      "cell_type": "code",
      "metadata": {
        "colab": {
          "base_uri": "https://localhost:8080/"
        },
        "id": "h9vbKKlzaxjx",
        "outputId": "a457198d-aa3f-47de-a565-b8af4ccbf51d"
      },
      "source": [
        "country_codes[country_codes[\"prediction_28\"] == 3].count()"
      ],
      "execution_count": null,
      "outputs": [
        {
          "output_type": "execute_result",
          "data": {
            "text/plain": [
              "CountryCode       92\n",
              "prediction_14     92\n",
              "prediction_28     92\n",
              "cur_prediction    92\n",
              "dtype: int64"
            ]
          },
          "metadata": {
            "tags": []
          },
          "execution_count": 56
        }
      ]
    }
  ]
}